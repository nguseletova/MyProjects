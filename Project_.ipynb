{
 "cells": [
  {
   "cell_type": "markdown",
   "metadata": {},
   "source": [
    "# Информация о банках"
   ]
  },
  {
   "cell_type": "markdown",
   "metadata": {},
   "source": [
    "В проекте выполнены функции, позволяющие сохранять и анализировать данные о банках. В частности, с сайта bik-info.ru программа сохраняет общую информацию о банке (Полное название, город, адрес индекс, Кореспондентский счет и др.), с сайта banki.ru программа собирает данные о краткой истории банка и скачивает все отзывы клиентов с их оценками. Далее в проекте отзывы клиентов анализируется с помощью методов машинного обучения и выдается топ слов, которые чаще всего встречаются в положительных отзывах и топ слов из отрицательных отзывов. Таким образом, пользователь с помощью данной программы может быстро получить аггрегированную информацию о банке и понять, что клиентам в нем нравится и что не нравится. Результаты работы выгружаются в Excel файл, который при запуске программы появится в папке, где лежит Jupiter notebook."
   ]
  },
  {
   "cell_type": "code",
   "execution_count": 61,
   "metadata": {},
   "outputs": [],
   "source": [
    "# Имортируем нужные библиотеки\n",
    "import pandas as pd \n",
    "import numpy as np\n",
    "import requests\n",
    "from bs4 import BeautifulSoup\n",
    "from sklearn.feature_extraction.text import TfidfVectorizer\n",
    "import matplotlib.pyplot as plt\n",
    "from sklearn.model_selection import train_test_split\n",
    "from sklearn.linear_model import LogisticRegression\n",
    "from sklearn.metrics import roc_auc_score, accuracy_score\n",
    "import requests\n",
    "import json"
   ]
  },
  {
   "cell_type": "markdown",
   "metadata": {},
   "source": [
    "Будем использовать пример со Сбербанком, однако пользователь может получить информацию и о любом другом банке, вставив в поля ниже имя банка с маленькой буквы на английском и его БИК."
   ]
  },
  {
   "cell_type": "code",
   "execution_count": 62,
   "metadata": {},
   "outputs": [],
   "source": [
    "bank_name=\"sberbank\"\n",
    "#БИК Сбербанка\n",
    "BIK=\"044525225\""
   ]
  },
  {
   "cell_type": "markdown",
   "metadata": {},
   "source": [
    "# Сбор информации о банке\n",
    "\n",
    "Соберем отзывы о банке и оценки клиентов с помощью **BeautifulSoup** с сайта banki.ru и сохраним их в таблицу в pandas - функция bank_reviews.\n",
    "Соберем общую информацию о банке с сайта bik-info.ru, используя **API (json)** и сохраним ее в pandas.\n"
   ]
  },
  {
   "cell_type": "code",
   "execution_count": 63,
   "metadata": {},
   "outputs": [],
   "source": [
    "#Функция собирает отзывы о банке с сайта banki.ru с помощью beautifulsoup\n",
    "def bank_reviews(bank_name):\n",
    "    url=\"https://www.banki.ru/services/responses/bank/\"+bank_name+\"/\"\n",
    "    r = requests.get(url)\n",
    "    page = BeautifulSoup(r.text, \"html.parser\")\n",
    "    #number of pages with reviews \n",
    "    pages=page.findAll(\"div\", {\"class\":\"margin-top-default\"})\n",
    "    number_pages=int(pages[1].attrs[\"data-options\"].split(\"totalItems: \")[1].split(\";\")[0])\n",
    "    divs = page.findAll(\"div\", class_=\"responses__item__message markup-inside-small markup-inside-small--bullet\")\n",
    "    scores = page.findAll(\"div\", class_=\"flexbox flexbox--inline flexbox--row flexbox--gap_xsmall flexbox--align-items_baseline\")\n",
    "    #create blank dataframe in pandas where reviews will be stored\n",
    "    df = pd.DataFrame(columns=['review number', 'text', 'score'])\n",
    "    for i in range(0, len(divs)):\n",
    "        df.at[i, 'text'] = divs[i].get_text(strip=True)\n",
    "        df.at[i, 'review number'] = i\n",
    "        metadata=scores[i].findAll('span')\n",
    "        if len(metadata)>1:\n",
    "            df.at[i, 'score'] = int(metadata[1].get_text(strip=True))\n",
    "        #store the number of filled lines\n",
    "        lines=i\n",
    "    #we needed to parse the first page separately because we don't know the total number of pages\n",
    "    #loop which goes from the second page of reviews to the last page and stores the reviews in pandas)\n",
    "    #если количество отзывов слишком большое, пройдемся по первым 100 страницам с отзывами (получим примерно 2400 отзывов), чтобы код не работал слишком долго\n",
    "    if number_pages>100:\n",
    "        number_pages=100\n",
    "    for j in range(2, number_pages):\n",
    "        url2=url+\"?page=\"+str(j)\n",
    "        r = requests.get(url2) \n",
    "        page = BeautifulSoup(r.text, \"html.parser\")\n",
    "        divs = page.findAll(\"div\", class_=\"responses__item__message markup-inside-small markup-inside-small--bullet\")\n",
    "        scores = page.findAll(\"div\", class_=\"flexbox flexbox--inline flexbox--row flexbox--gap_xsmall flexbox--align-items_baseline\")\n",
    "        for i in range(lines+1, lines+len(divs)+1):\n",
    "            df.at[i, 'text'] = divs[i-lines-1].get_text(strip=True)\n",
    "            df.at[i, 'review number'] = i\n",
    "            metadata=scores[i-lines-1].findAll('span')\n",
    "            if len(metadata)>1:\n",
    "                df.at[i, 'score'] = int(metadata[1].get_text(strip=True))\n",
    "        lines=lines+len(divs)\n",
    "    return df"
   ]
  },
  {
   "cell_type": "code",
   "execution_count": 80,
   "metadata": {},
   "outputs": [],
   "source": [
    "reviews=bank_reviews(\"sberbank\")"
   ]
  },
  {
   "cell_type": "code",
   "execution_count": 81,
   "metadata": {},
   "outputs": [],
   "source": [
    "revies2=reviews.copy()"
   ]
  },
  {
   "cell_type": "code",
   "execution_count": 82,
   "metadata": {},
   "outputs": [],
   "source": [
    "# Функция собирает общую информацтю о банке с помощью json\n",
    "def bank_info(BIK):\n",
    "    url=\"http://www.bik-info.ru/api.html?type=json&bik=\"+BIK\n",
    "    params = {'format':'json'}\n",
    "    g = requests.get(url, params=params)\n",
    "    q = g.json()\n",
    "    df = pd.DataFrame(columns=['Информация о банке', 'Значение'])\n",
    "    df.at[0, 'Информация о банке'] = \"Название\"\n",
    "    df.at[0, 'Значение'] = q[\"name\"]\n",
    "    df.at[1, 'Информация о банке'] = \"Город\"\n",
    "    df.at[1, 'Значение'] = q[\"city\"]\n",
    "    df.at[2, 'Информация о банке'] = \"Индекс\"\n",
    "    df.at[2, 'Значение'] = q[\"index\"]\n",
    "    df.at[3, 'Информация о банке'] = \"Адрес\"\n",
    "    df.at[3, 'Значение'] = q[\"address\"]\n",
    "    df.at[4, 'Информация о банке'] = \"БИК\"\n",
    "    df.at[4, 'Значение'] = q[\"bik\"]\n",
    "    df.at[5, 'Информация о банке'] = \"Корреспондентский счет\"\n",
    "    df.at[5, 'Значение'] = q[\"ks\"]\n",
    "    return df"
   ]
  },
  {
   "cell_type": "code",
   "execution_count": 83,
   "metadata": {},
   "outputs": [],
   "source": [
    "sber_BIK=\"044525225\"\n",
    "df=bank_info(sber_BIK)"
   ]
  },
  {
   "cell_type": "code",
   "execution_count": 84,
   "metadata": {},
   "outputs": [],
   "source": [
    "#функция собирает краткую истоию банка с banki.ru\n",
    "def bank_info2(bank_name, df):\n",
    "    url=\"https://www.banki.ru/banks/bank/\"+bank_name+\"/\"\n",
    "    r = requests.get(url)\n",
    "    page = BeautifulSoup(r.text, \"html.parser\")\n",
    "    info=page.findAll(\"div\", {\"class\":\"font-size-medium lazy-load\"})[0].get_text(strip=True)\n",
    "    df.at[6, 'Информация о банке'] = \"Краткая история\"\n",
    "    df.at[6, 'Значение'] = info\n",
    "    info2=page.findAll(\"dl\", {\"definition-list padding-default\"})\n",
    "    return df"
   ]
  },
  {
   "cell_type": "code",
   "execution_count": 85,
   "metadata": {},
   "outputs": [],
   "source": [
    "df=bank_info2(bank_name,df)"
   ]
  },
  {
   "cell_type": "markdown",
   "metadata": {},
   "source": [
    "посчитаем срднюю оценку по отзывам и добавим ее в таблицу с информацией о банке"
   ]
  },
  {
   "cell_type": "code",
   "execution_count": 86,
   "metadata": {},
   "outputs": [],
   "source": [
    "df.at[7, 'Информация о банке'] = \"Средняя оценка\"\n",
    "df.at[7, 'Значение']= reviews[\"score\"].mean()"
   ]
  },
  {
   "cell_type": "markdown",
   "metadata": {},
   "source": [
    "# Использование машинного обучения\n",
    "\n",
    "Используем метрику TF-IDF для работы с текстовыми данными. Используем логистическую регрессию для определения того, какие слова влияют на выставление высокой оценки банку или низкой.\n",
    "\n",
    "## Чистка данных в pandas\n",
    "\n",
    "Почистим данные для дальнейшей работы с ними."
   ]
  },
  {
   "cell_type": "code",
   "execution_count": 88,
   "metadata": {},
   "outputs": [],
   "source": [
    "### FROM: Семинар по машинному обучению №10\n",
    "#перевод текст отзыва в нижний регистр\n",
    "reviews['text']=reviews.text.str.lower()\n",
    "#замена все символы, кроме букв и цифр, на пробелы\n",
    "review_text=reviews['text'].replace('[^(?u)\\\\b\\\\w\\\\w+\\\\b]', ' ', regex=True)\n",
    "#Использование метрики TF-IDF для работы с текстами\n",
    "vectorizer = TfidfVectorizer(encoding='utf8', min_df=5)\n",
    "vectorizer.fit(review_text)\n",
    "vectorizer.transform(review_text)\n",
    "#Удаление отзывов, у которых отсутствует оценка\n",
    "reviews=reviews[reviews['score'].isna()==False]\n",
    "reviews[\"score\"] = reviews[\"score\"].astype(np.float)"
   ]
  },
  {
   "cell_type": "markdown",
   "metadata": {},
   "source": [
    "## Классификация отзывов"
   ]
  },
  {
   "cell_type": "code",
   "execution_count": 89,
   "metadata": {},
   "outputs": [],
   "source": [
    "#Классификация отзывов на положительные и отрицательные\n",
    "X = vectorizer.transform(reviews['text'])\n",
    "Y = (reviews[\"score\"].values > 3).astype(int)"
   ]
  },
  {
   "cell_type": "code",
   "execution_count": 90,
   "metadata": {},
   "outputs": [],
   "source": [
    "random_state = np.random.RandomState(0)\n",
    "X_train, X_test, Y_train, Y_test = train_test_split(X, Y, test_size=.2, random_state=random_state)\n",
    "\n",
    "#Натренируем модель\n",
    "lr = LogisticRegression(C=100)\n",
    "lr.fit(X_train, Y_train)\n",
    "\n",
    "# Предсказание модели\n",
    "preds = lr.predict_proba(X_test)[:,1]"
   ]
  },
  {
   "cell_type": "markdown",
   "metadata": {},
   "source": [
    "## Важность признаков"
   ]
  },
  {
   "cell_type": "code",
   "execution_count": 91,
   "metadata": {},
   "outputs": [],
   "source": [
    "#Вытащим сами слова из vectorizer\n",
    "words=vectorizer.get_feature_names()\n",
    "\n",
    "#Создадим совместный лист слов и весов\n",
    "f_weights = zip(words, lr.coef_[0])\n",
    "\n",
    "#отсортируем по весам\n",
    "f_weights = sorted(f_weights, key=lambda i: i[1])\n",
    "### END FROM\n",
    "words = pd.DataFrame(columns=['Топ отрицательных слов из отзывов о банке', 'Топ положительных слов из отзывов о банке'])\n",
    "for i in range(1,10):\n",
    "    words.at[i, 'Топ отрицательных слов из отзывов о банке'] = f_weights[-i][0]\n",
    "    words.at[i, 'Топ положительных слов из отзывов о банке'] = f_weights[i][0]\n",
    "    "
   ]
  },
  {
   "cell_type": "code",
   "execution_count": 92,
   "metadata": {},
   "outputs": [
    {
     "data": {
      "text/html": [
       "<div>\n",
       "<style scoped>\n",
       "    .dataframe tbody tr th:only-of-type {\n",
       "        vertical-align: middle;\n",
       "    }\n",
       "\n",
       "    .dataframe tbody tr th {\n",
       "        vertical-align: top;\n",
       "    }\n",
       "\n",
       "    .dataframe thead th {\n",
       "        text-align: right;\n",
       "    }\n",
       "</style>\n",
       "<table border=\"1\" class=\"dataframe\">\n",
       "  <thead>\n",
       "    <tr style=\"text-align: right;\">\n",
       "      <th></th>\n",
       "      <th>Топ отрицательных слов из отзывов о банке</th>\n",
       "      <th>Топ положительных слов из отзывов о банке</th>\n",
       "    </tr>\n",
       "  </thead>\n",
       "  <tbody>\n",
       "    <tr>\n",
       "      <th>1</th>\n",
       "      <td>спасибо</td>\n",
       "      <td>на</td>\n",
       "    </tr>\n",
       "    <tr>\n",
       "      <th>2</th>\n",
       "      <td>очень</td>\n",
       "      <td>ни</td>\n",
       "    </tr>\n",
       "    <tr>\n",
       "      <th>3</th>\n",
       "      <td>благодарность</td>\n",
       "      <td>что</td>\n",
       "    </tr>\n",
       "    <tr>\n",
       "      <th>4</th>\n",
       "      <td>приятно</td>\n",
       "      <td>нет</td>\n",
       "    </tr>\n",
       "    <tr>\n",
       "      <th>5</th>\n",
       "      <td>быстро</td>\n",
       "      <td>10</td>\n",
       "    </tr>\n",
       "    <tr>\n",
       "      <th>6</th>\n",
       "      <td>за</td>\n",
       "      <td>рублей</td>\n",
       "    </tr>\n",
       "    <tr>\n",
       "      <th>7</th>\n",
       "      <td>хочу</td>\n",
       "      <td>счет</td>\n",
       "    </tr>\n",
       "    <tr>\n",
       "      <th>8</th>\n",
       "      <td>всегда</td>\n",
       "      <td>банкомат</td>\n",
       "    </tr>\n",
       "    <tr>\n",
       "      <th>9</th>\n",
       "      <td>выразить</td>\n",
       "      <td>отказ</td>\n",
       "    </tr>\n",
       "  </tbody>\n",
       "</table>\n",
       "</div>"
      ],
      "text/plain": [
       "  Топ отрицательных слов из отзывов о банке  \\\n",
       "1                                   спасибо   \n",
       "2                                     очень   \n",
       "3                             благодарность   \n",
       "4                                   приятно   \n",
       "5                                    быстро   \n",
       "6                                        за   \n",
       "7                                      хочу   \n",
       "8                                    всегда   \n",
       "9                                  выразить   \n",
       "\n",
       "  Топ положительных слов из отзывов о банке  \n",
       "1                                        на  \n",
       "2                                        ни  \n",
       "3                                       что  \n",
       "4                                       нет  \n",
       "5                                        10  \n",
       "6                                    рублей  \n",
       "7                                      счет  \n",
       "8                                  банкомат  \n",
       "9                                     отказ  "
      ]
     },
     "execution_count": 92,
     "metadata": {},
     "output_type": "execute_result"
    }
   ],
   "source": [
    "words"
   ]
  },
  {
   "cell_type": "markdown",
   "metadata": {},
   "source": [
    "часть машинного обучения доделана не до конца - в идеале нужно использовать nltk библиотку для удаления предлогов, союзов и других служебных частей речи, чтобы в топе показывались только смыловые слова, однако на это не хватило времени."
   ]
  },
  {
   "cell_type": "markdown",
   "metadata": {},
   "source": [
    "# Визуализация оценок"
   ]
  },
  {
   "cell_type": "code",
   "execution_count": 93,
   "metadata": {
    "scrolled": true
   },
   "outputs": [
    {
     "data": {
      "image/png": "[encoded data removed]",
      "text/plain": [
       "<Figure size 432x288 with 1 Axes>"
      ]
     },
     "metadata": {
      "needs_background": "light"
     },
     "output_type": "display_data"
    }
   ],
   "source": [
    "%matplotlib inline\n",
    "plt.hist(reviews[\"score\"])\n",
    "plt.grid()"
   ]
  },
  {
   "cell_type": "markdown",
   "metadata": {},
   "source": [
    "Сохраним информацию о банке и топ положительных и отрицательных слов о нем в этот же эксель файл, что и отзывы."
   ]
  },
  {
   "cell_type": "markdown",
   "metadata": {},
   "source": [
    "# Export to excel\n",
    "\n",
    "Экспортируем информацию о банке  в Excel"
   ]
  },
  {
   "cell_type": "code",
   "execution_count": 96,
   "metadata": {},
   "outputs": [],
   "source": [
    "writer = pd.ExcelWriter('sberbank.xlsx', engine='xlsxwriter')\n",
    "df.to_excel(writer, sheet_name='Info2', index=False)\n",
    "words.to_excel(writer, sheet_name='Top_words', index=False)\n",
    "revies2.to_excel(writer, sheet_name='Reviews', index=False)\n",
    "writer.save()"
   ]
  }
 ],
 "metadata": {
  "kernelspec": {
   "display_name": "Python 3",
   "language": "python",
   "name": "python3"
  },
  "language_info": {
   "codemirror_mode": {
    "name": "ipython",
    "version": 3
   },
   "file_extension": ".py",
   "mimetype": "text/x-python",
   "name": "python",
   "nbconvert_exporter": "python",
   "pygments_lexer": "ipython3",
   "version": "3.7.1"
  }
 },
 "nbformat": 4,
 "nbformat_minor": 2
}
